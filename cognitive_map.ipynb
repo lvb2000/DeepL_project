{
 "cells": [
  {
   "cell_type": "code",
   "execution_count": 15,
   "id": "initial_id",
   "metadata": {
    "collapsed": true,
    "ExecuteTime": {
     "end_time": "2024-01-07T11:30:55.663594Z",
     "start_time": "2024-01-07T11:30:55.552356Z"
    }
   },
   "outputs": [],
   "source": [
    "import torch\n",
    "from torchsummary import summary\n",
    "import sklearn\n",
    "from pydreamer.pydreamer.models import Dreamer"
   ]
  },
  {
   "cell_type": "code",
   "execution_count": 17,
   "outputs": [
    {
     "ename": "TypeError",
     "evalue": "Dreamer.__init__() missing 1 required positional argument: 'conf'",
     "output_type": "error",
     "traceback": [
      "\u001B[0;31m---------------------------------------------------------------------------\u001B[0m",
      "\u001B[0;31mTypeError\u001B[0m                                 Traceback (most recent call last)",
      "Cell \u001B[0;32mIn[17], line 2\u001B[0m\n\u001B[1;32m      1\u001B[0m \u001B[38;5;66;03m# load model\u001B[39;00m\n\u001B[0;32m----> 2\u001B[0m model \u001B[38;5;241m=\u001B[39m Dreamer()\n\u001B[1;32m      3\u001B[0m PATH \u001B[38;5;241m=\u001B[39m \u001B[38;5;124m'\u001B[39m\u001B[38;5;124m/Users/lukas/Library/Mobile Documents/com~apple~CloudDocs/DeepLModels/FinetuneAtariBreakout/latest.pt\u001B[39m\u001B[38;5;124m'\u001B[39m\n\u001B[1;32m      4\u001B[0m model\u001B[38;5;241m.\u001B[39mload_state_dict(torch\u001B[38;5;241m.\u001B[39mload(PATH, map_location\u001B[38;5;241m=\u001B[39mtorch\u001B[38;5;241m.\u001B[39mdevice(\u001B[38;5;124m'\u001B[39m\u001B[38;5;124mcpu\u001B[39m\u001B[38;5;124m'\u001B[39m)))\n",
      "\u001B[0;31mTypeError\u001B[0m: Dreamer.__init__() missing 1 required positional argument: 'conf'"
     ]
    }
   ],
   "source": [
    "# load model\n",
    "model = Dreamer()\n",
    "PATH = '/Users/lukas/Library/Mobile Documents/com~apple~CloudDocs/DeepLModels/FinetuneAtariBreakout/latest.pt'\n",
    "model.load_state_dict(torch.load(PATH, map_location=torch.device('cpu')))\n",
    "# print model summary\n",
    "print(model)"
   ],
   "metadata": {
    "collapsed": false,
    "ExecuteTime": {
     "end_time": "2024-01-07T11:31:34.276686Z",
     "start_time": "2024-01-07T11:31:34.260200Z"
    }
   },
   "id": "3372a4a4d3da2007"
  },
  {
   "cell_type": "code",
   "execution_count": null,
   "outputs": [],
   "source": [],
   "metadata": {
    "collapsed": false
   },
   "id": "950012f345fbfd57"
  },
  {
   "cell_type": "code",
   "execution_count": null,
   "outputs": [],
   "source": [],
   "metadata": {
    "collapsed": false
   },
   "id": "37374b1b0e77e65"
  }
 ],
 "metadata": {
  "kernelspec": {
   "display_name": "Python 3",
   "language": "python",
   "name": "python3"
  },
  "language_info": {
   "codemirror_mode": {
    "name": "ipython",
    "version": 2
   },
   "file_extension": ".py",
   "mimetype": "text/x-python",
   "name": "python",
   "nbconvert_exporter": "python",
   "pygments_lexer": "ipython2",
   "version": "2.7.6"
  }
 },
 "nbformat": 4,
 "nbformat_minor": 5
}
